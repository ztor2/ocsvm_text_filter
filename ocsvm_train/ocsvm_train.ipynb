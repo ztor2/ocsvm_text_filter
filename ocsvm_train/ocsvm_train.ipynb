{
 "cells": [
  {
   "cell_type": "markdown",
   "metadata": {
    "id": "3PqJ9mPe9ySy"
   },
   "source": [
    "## 라이브러리 설치"
   ]
  },
  {
   "cell_type": "code",
   "execution_count": 1,
   "metadata": {
    "colab": {
     "base_uri": "https://localhost:8080/"
    },
    "id": "7KEKRmZ7f3Gq",
    "outputId": "4c1629b2-b92b-4d26-a56b-0be1d4adf35f"
   },
   "outputs": [
    {
     "name": "stdout",
     "output_type": "stream",
     "text": [
      "Mounted at /content/drive\n"
     ]
    }
   ],
   "source": [
    "from google.colab import drive\n",
    "drive.mount('/content/drive')"
   ]
  },
  {
   "cell_type": "code",
   "execution_count": 2,
   "metadata": {
    "colab": {
     "base_uri": "https://localhost:8080/"
    },
    "id": "naQ0g29Aj8mG",
    "outputId": "61bfb419-6deb-4c43-94c2-de04877d94d5"
   },
   "outputs": [
    {
     "name": "stdout",
     "output_type": "stream",
     "text": [
      "/content/drive/MyDrive\n"
     ]
    }
   ],
   "source": [
    "cd /content/drive/MyDrive"
   ]
  },
  {
   "cell_type": "code",
   "execution_count": null,
   "metadata": {
    "id": "0lCrMm6enEdA"
   },
   "outputs": [],
   "source": [
    "# pip install konlpy\n",
    "!git clone https://github.com/lovit/customized_konlpy.git\n",
    "!pip install customized_konlpy"
   ]
  },
  {
   "cell_type": "code",
   "execution_count": 2,
   "metadata": {
    "id": "sOrXmUXmzYEB"
   },
   "outputs": [],
   "source": [
    "import json\n",
    "import re\n",
    "import pickle\n",
    "import numpy as np\n",
    "import pandas as pd\n",
    "import joblib\n",
    "from sklearn.model_selection import GridSearchCV\n",
    "from sklearn.feature_extraction.text import CountVectorizer\n",
    "from sklearn.feature_extraction.text import TfidfVectorizer\n",
    "from sklearn.feature_extraction.text import TfidfTransformer\n",
    "from sklearn.svm import OneClassSVM\n",
    "from sklearn.metrics import accuracy_score\n",
    "from sklearn.metrics import confusion_matrix \n",
    "from sklearn.metrics import classification_report\n",
    "import ckonlpy\n",
    "from ckonlpy.tag import Twitter\n",
    "from ckonlpy.tag import Postprocessor\n",
    "from ckonlpy.utils import load_wordset"
   ]
  },
  {
   "cell_type": "code",
   "execution_count": 5,
   "metadata": {
    "colab": {
     "base_uri": "https://localhost:8080/"
    },
    "id": "-YmywGSD1E0_",
    "outputId": "1fdbba50-15b2-446a-dca5-3db24d8594ef"
   },
   "outputs": [
    {
     "name": "stderr",
     "output_type": "stream",
     "text": [
      "/usr/local/lib/python3.7/dist-packages/konlpy/tag/_okt.py:17: UserWarning: \"Twitter\" has changed to \"Okt\" since KoNLPy v0.4.5.\n",
      "  warn('\"Twitter\" has changed to \"Okt\" since KoNLPy v0.4.5.')\n"
     ]
    }
   ],
   "source": [
    "twitter = ckonlpy.tag.Twitter()"
   ]
  },
  {
   "cell_type": "code",
   "execution_count": 6,
   "metadata": {
    "id": "t86NYy2kLn02"
   },
   "outputs": [],
   "source": [
    "with open('dictionary_v1.pkl', 'rb') as f:\n",
    "    dict_toadd = pickle.load(f)\n",
    "for i in dict_toadd:\n",
    "    twitter.add_dictionary(i,'Noun')"
   ]
  },
  {
   "cell_type": "code",
   "execution_count": 19,
   "metadata": {
    "id": "9FRug3Lle9pG"
   },
   "outputs": [],
   "source": [
    "# passtags = {'Noun', 'Verb', 'Adjective', 'Adverb'}\n",
    "# tokenizer = Postprocessor(base_tagger=twitter, passtags=passtags) # 품사 필터링 ON\n",
    "tokenizer = Postprocessor(base_tagger=twitter) # 품사 필터링 OFF"
   ]
  },
  {
   "cell_type": "markdown",
   "metadata": {
    "id": "jvgf_N52zVKi"
   },
   "source": [
    "#### 글로우픽 데이터 불러오기"
   ]
  },
  {
   "cell_type": "code",
   "execution_count": 7,
   "metadata": {
    "id": "aZqSFKaQl9W6"
   },
   "outputs": [],
   "source": [
    "train_num = 20000"
   ]
  },
  {
   "cell_type": "code",
   "execution_count": 8,
   "metadata": {
    "colab": {
     "base_uri": "https://localhost:8080/"
    },
    "id": "XSsrmp6ZWtOY",
    "outputId": "91c9b3f5-52a9-4cee-b77b-b52ee4d38b9b"
   },
   "outputs": [
    {
     "name": "stdout",
     "output_type": "stream",
     "text": [
      "1    20000\n",
      "Name: label, dtype: int64\n"
     ]
    }
   ],
   "source": [
    "with open('train_prepro.json', 'r', encoding='utf-8') as f:\n",
    "    total_train = json.load(f, strict=False)\n",
    "total_train = pd.DataFrame(total_train)\n",
    "total_train = total_train.sample(frac=1).reset_index(drop=True)\n",
    "total_train = total_train[:train_num]\n",
    "total_train['label'] = total_train['label'].astype(float)\n",
    "total_train['label'] = total_train['label'].astype(int)\n",
    "print(total_train['label'].value_counts())"
   ]
  },
  {
   "cell_type": "markdown",
   "metadata": {
    "id": "wvGAkjS5-G6-"
   },
   "source": [
    "#### 다른 플랫폼 데이터 불러오기 (인스타그램, 유튜브, 파우더룸, 블로그)"
   ]
  },
  {
   "cell_type": "code",
   "execution_count": 9,
   "metadata": {
    "colab": {
     "base_uri": "https://localhost:8080/"
    },
    "id": "oXvpsxa1WX9i",
    "outputId": "829f6429-5929-49ae-c63d-143727e97dc2"
   },
   "outputs": [
    {
     "name": "stdout",
     "output_type": "stream",
     "text": [
      " 1    3945\n",
      "-1    3152\n",
      "Name: label, dtype: int64\n"
     ]
    }
   ],
   "source": [
    "with open('test_prepro.json', 'r', encoding='utf-8') as f:\n",
    "    total_test = json.load(f, strict=False)\n",
    "total_test = pd.DataFrame(total_test)\n",
    "total_test = total_test.sample(frac=1).reset_index(drop=True)\n",
    "total_test['label'] = total_test['label'].astype(float)\n",
    "total_test['label'] = total_test['label'].astype(int)\n",
    "print(total_test['label'].value_counts())"
   ]
  },
  {
   "cell_type": "markdown",
   "metadata": {
    "id": "5WzluihqWsTg"
   },
   "source": [
    "- 테스트 셋의 일부 데이터를 훈련셋에 포함시킴.\n",
    "- 훈련셋에 포함시킬 테스트셋의 비율은 frac 값을 조절해 변경할 수 있음.\n",
    "- frac < 1일 경우 테스트셋으로 모델의 성능을 평가할 수 있음.\n",
    "- frac=1 일 경우 모든 테스트셋의 1 레이블 데이터를 모델에 넣음. (최종 모델 구축 시)"
   ]
  },
  {
   "cell_type": "code",
   "execution_count": 10,
   "metadata": {
    "id": "WEwv07ZQFUhB"
   },
   "outputs": [],
   "source": [
    "total_test_pos = total_test[total_test['label'] == 1.]\n",
    "total_test_neg = total_test[total_test['label'] == -1.]\n",
    "test_pos_sampled = total_test_pos.sample(frac=1)\n",
    "train_pos_sampled = total_train.sample(len(test_pos_sampled))\n",
    "train_pos_remain = total_train.drop(train_pos_sampled.index)\n",
    "test_pos_remain = total_test_pos.drop(test_pos_sampled.index)"
   ]
  },
  {
   "cell_type": "code",
   "execution_count": 11,
   "metadata": {
    "id": "qUtdJ_NaJiuV"
   },
   "outputs": [],
   "source": [
    "total_train  = pd.concat([total_train, test_pos_sampled], axis=0).reset_index(drop=True)\n",
    "total_test  = pd.concat([test_pos_remain, total_test_neg], axis=0).reset_index(drop=True) "
   ]
  },
  {
   "cell_type": "code",
   "execution_count": 12,
   "metadata": {
    "colab": {
     "base_uri": "https://localhost:8080/"
    },
    "id": "-08i10l2LgH1",
    "outputId": "5776cd08-186d-4cea-f028-585061a67237"
   },
   "outputs": [
    {
     "name": "stdout",
     "output_type": "stream",
     "text": [
      "1    23945\n",
      "Name: label, dtype: int64\n",
      "-1    3152\n",
      "Name: label, dtype: int64\n"
     ]
    }
   ],
   "source": [
    "print(total_train['label'].value_counts())\n",
    "print(total_test['label'].value_counts())"
   ]
  },
  {
   "cell_type": "code",
   "execution_count": 13,
   "metadata": {
    "id": "KEthV_Ts0tCG"
   },
   "outputs": [],
   "source": [
    "train_text = total_train['text'].tolist()\n",
    "train_labels = total_train['label'].tolist()\n",
    "test_text = total_test['text'].tolist()\n",
    "test_labels = total_test['label'].tolist()"
   ]
  },
  {
   "cell_type": "code",
   "execution_count": 14,
   "metadata": {
    "id": "VhCFpeHiIoWX"
   },
   "outputs": [],
   "source": [
    "X = total_train['text']\n",
    "y = total_train['label']"
   ]
  },
  {
   "cell_type": "code",
   "execution_count": 8,
   "metadata": {
    "id": "EqJykS4_PMdV"
   },
   "outputs": [],
   "source": [
    "stopwords=['의','가','이','은','들','는','좀','잘','걍','과','도','를','으로',\n",
    "           '자','에','와','한','하다','그리고','넘','네','을','랑','예요','오','여서','이에요','데',\n",
    "           '에게','에서','라서','이라서','에요','와','만','나','로','이랑','내','엔','아','부터','수',\n",
    "           '때','거','다','이다','이나','에도','것','고','게','인데','제','까지','에는','엔','이라'\n",
    "          '약간','오늘','점','없이','자꾸','알','있','다니','또','어','딱','걍','더','중','니','저','면','듯']"
   ]
  },
  {
   "cell_type": "code",
   "execution_count": 10,
   "metadata": {},
   "outputs": [],
   "source": [
    "# with open('stopwords.pkl', 'wb') as f:\n",
    "#     pickle.dump(stopwords, f)"
   ]
  },
  {
   "cell_type": "code",
   "execution_count": 16,
   "metadata": {
    "id": "Il4y1Tnr0s9y"
   },
   "outputs": [],
   "source": [
    "def tokenize_text(sample) :\n",
    "    tokenized_corpus = []\n",
    "    for sentence in sample:\n",
    "        tmp = [i[0] for i in  tokenizer.pos(sentence)  if not i[0] in stopwords] \n",
    "        tokenized_corpus .append(' '.join(tmp))\n",
    "    return tokenized_corpus"
   ]
  },
  {
   "cell_type": "code",
   "execution_count": 20,
   "metadata": {
    "id": "kt77b27Carei"
   },
   "outputs": [],
   "source": [
    "train_corp =tokenize_text(train_text)\n",
    "test_corp = tokenize_text(test_text)"
   ]
  },
  {
   "cell_type": "code",
   "execution_count": 21,
   "metadata": {
    "colab": {
     "base_uri": "https://localhost:8080/"
    },
    "id": "h4plkj7JSP--",
    "outputId": "138effce-f62b-4b09-a84a-b74700d811d2"
   },
   "outputs": [
    {
     "name": "stdout",
     "output_type": "stream",
     "text": [
      "23933\n",
      "23933\n"
     ]
    }
   ],
   "source": [
    "drop_train = [idx for idx, sentence in enumerate(train_corp) if len(sentence) < 1]\n",
    "X_train = np.delete(train_corp, drop_train, axis=0)\n",
    "y_train = np.delete(train_labels, drop_train, axis=0)\n",
    "print(len(X_train))\n",
    "print(len(y_train))"
   ]
  },
  {
   "cell_type": "code",
   "execution_count": 22,
   "metadata": {
    "colab": {
     "base_uri": "https://localhost:8080/"
    },
    "id": "pQPOGn6jSYVN",
    "outputId": "a76ab4a2-8e37-45df-ba14-ccae60fbc10a"
   },
   "outputs": [
    {
     "name": "stdout",
     "output_type": "stream",
     "text": [
      "3151\n",
      "3151\n"
     ]
    }
   ],
   "source": [
    "drop_test = [idx for idx, sentence in enumerate(test_corp) if len(sentence) < 1]\n",
    "X_test = np.delete(test_corp, drop_test, axis=0)\n",
    "y_test = np.delete(test_labels, drop_test, axis=0)\n",
    "print(len(X_test))\n",
    "print(len(y_test))"
   ]
  },
  {
   "cell_type": "code",
   "execution_count": 23,
   "metadata": {
    "id": "vCsLdr_9DpDt"
   },
   "outputs": [],
   "source": [
    "min_count = 2\n",
    "ngram_range = (1, 1)"
   ]
  },
  {
   "cell_type": "code",
   "execution_count": 24,
   "metadata": {
    "id": "agratgXxDqti"
   },
   "outputs": [],
   "source": [
    "vectorizer = TfidfVectorizer(min_df=min_count,  ngram_range=ngram_range)\n",
    "emb = vectorizer.fit_transform(X_train)\n",
    "vocab = vectorizer.vocabulary_"
   ]
  },
  {
   "cell_type": "code",
   "execution_count": 28,
   "metadata": {
    "id": "sskpz-nnM40N"
   },
   "outputs": [],
   "source": [
    "with open('vocab.pkl', 'wb') as f:\n",
    "    pickle.dump(vocab, f)"
   ]
  },
  {
   "cell_type": "code",
   "execution_count": 29,
   "metadata": {
    "id": "WZHdGNIBFzyW"
   },
   "outputs": [],
   "source": [
    "def get_test_emb_with_vocabfile(corpus, min_count, ngram_range, vocab):\n",
    "  new_vectorizer = TfidfVectorizer(min_df=min_count, ngram_range=ngram_range, vocabulary=vocab)\n",
    "  emb = new_vectorizer.fit_transform(corpus)\n",
    "  return emb"
   ]
  },
  {
   "cell_type": "code",
   "execution_count": 30,
   "metadata": {
    "id": "HrBRaQmLHbDd"
   },
   "outputs": [],
   "source": [
    "train_matrix = emb\n",
    "test_matrix = get_test_emb_with_vocabfile(X_test, min_count, ngram_range, vocab)"
   ]
  },
  {
   "cell_type": "code",
   "execution_count": 31,
   "metadata": {
    "colab": {
     "base_uri": "https://localhost:8080/"
    },
    "id": "2WTRKbYfc-uO",
    "outputId": "780b4753-5663-40b8-d322-460dd531ea9c"
   },
   "outputs": [
    {
     "name": "stdout",
     "output_type": "stream",
     "text": [
      "(23933, 15578)\n",
      "(3151, 15578)\n"
     ]
    }
   ],
   "source": [
    "print(train_matrix.shape)\n",
    "print(test_matrix.shape)"
   ]
  },
  {
   "cell_type": "code",
   "execution_count": 32,
   "metadata": {
    "colab": {
     "base_uri": "https://localhost:8080/",
     "height": 254
    },
    "id": "tLJhq8l4gVWW",
    "outputId": "e38f203e-2728-416d-82f9-fe3e9db29589"
   },
   "outputs": [
    {
     "name": "stderr",
     "output_type": "stream",
     "text": [
      "/usr/local/lib/python3.7/dist-packages/sklearn/utils/deprecation.py:87: FutureWarning: Function get_feature_names is deprecated; get_feature_names is deprecated in 1.0 and will be removed in 1.2. Please use get_feature_names_out instead.\n",
      "  warnings.warn(msg, category=FutureWarning)\n"
     ]
    },
    {
     "data": {
      "text/html": [
       "\n",
       "  <div id=\"df-00826826-bca5-4f4a-be42-35e68c7010ce\">\n",
       "    <div class=\"colab-df-container\">\n",
       "      <div>\n",
       "<style scoped>\n",
       "    .dataframe tbody tr th:only-of-type {\n",
       "        vertical-align: middle;\n",
       "    }\n",
       "\n",
       "    .dataframe tbody tr th {\n",
       "        vertical-align: top;\n",
       "    }\n",
       "\n",
       "    .dataframe thead th {\n",
       "        text-align: right;\n",
       "    }\n",
       "</style>\n",
       "<table border=\"1\" class=\"dataframe\">\n",
       "  <thead>\n",
       "    <tr style=\"text-align: right;\">\n",
       "      <th></th>\n",
       "      <th>가가</th>\n",
       "      <th>가게</th>\n",
       "      <th>가격</th>\n",
       "      <th>가격값</th>\n",
       "      <th>가계</th>\n",
       "      <th>가고</th>\n",
       "      <th>가구</th>\n",
       "      <th>가금</th>\n",
       "      <th>가급</th>\n",
       "      <th>가기</th>\n",
       "    </tr>\n",
       "  </thead>\n",
       "  <tbody>\n",
       "    <tr>\n",
       "      <th>0</th>\n",
       "      <td>0.0</td>\n",
       "      <td>0.0</td>\n",
       "      <td>0.0</td>\n",
       "      <td>0.0</td>\n",
       "      <td>0.0</td>\n",
       "      <td>0.0</td>\n",
       "      <td>0.0</td>\n",
       "      <td>0.0</td>\n",
       "      <td>0.0</td>\n",
       "      <td>0.0</td>\n",
       "    </tr>\n",
       "    <tr>\n",
       "      <th>1</th>\n",
       "      <td>0.0</td>\n",
       "      <td>0.0</td>\n",
       "      <td>0.0</td>\n",
       "      <td>0.0</td>\n",
       "      <td>0.0</td>\n",
       "      <td>0.0</td>\n",
       "      <td>0.0</td>\n",
       "      <td>0.0</td>\n",
       "      <td>0.0</td>\n",
       "      <td>0.0</td>\n",
       "    </tr>\n",
       "    <tr>\n",
       "      <th>2</th>\n",
       "      <td>0.0</td>\n",
       "      <td>0.0</td>\n",
       "      <td>0.0</td>\n",
       "      <td>0.0</td>\n",
       "      <td>0.0</td>\n",
       "      <td>0.0</td>\n",
       "      <td>0.0</td>\n",
       "      <td>0.0</td>\n",
       "      <td>0.0</td>\n",
       "      <td>0.0</td>\n",
       "    </tr>\n",
       "    <tr>\n",
       "      <th>3</th>\n",
       "      <td>0.0</td>\n",
       "      <td>0.0</td>\n",
       "      <td>0.0</td>\n",
       "      <td>0.0</td>\n",
       "      <td>0.0</td>\n",
       "      <td>0.0</td>\n",
       "      <td>0.0</td>\n",
       "      <td>0.0</td>\n",
       "      <td>0.0</td>\n",
       "      <td>0.0</td>\n",
       "    </tr>\n",
       "    <tr>\n",
       "      <th>4</th>\n",
       "      <td>0.0</td>\n",
       "      <td>0.0</td>\n",
       "      <td>0.0</td>\n",
       "      <td>0.0</td>\n",
       "      <td>0.0</td>\n",
       "      <td>0.0</td>\n",
       "      <td>0.0</td>\n",
       "      <td>0.0</td>\n",
       "      <td>0.0</td>\n",
       "      <td>0.0</td>\n",
       "    </tr>\n",
       "  </tbody>\n",
       "</table>\n",
       "</div>\n",
       "      <button class=\"colab-df-convert\" onclick=\"convertToInteractive('df-00826826-bca5-4f4a-be42-35e68c7010ce')\"\n",
       "              title=\"Convert this dataframe to an interactive table.\"\n",
       "              style=\"display:none;\">\n",
       "        \n",
       "  <svg xmlns=\"http://www.w3.org/2000/svg\" height=\"24px\"viewBox=\"0 0 24 24\"\n",
       "       width=\"24px\">\n",
       "    <path d=\"M0 0h24v24H0V0z\" fill=\"none\"/>\n",
       "    <path d=\"M18.56 5.44l.94 2.06.94-2.06 2.06-.94-2.06-.94-.94-2.06-.94 2.06-2.06.94zm-11 1L8.5 8.5l.94-2.06 2.06-.94-2.06-.94L8.5 2.5l-.94 2.06-2.06.94zm10 10l.94 2.06.94-2.06 2.06-.94-2.06-.94-.94-2.06-.94 2.06-2.06.94z\"/><path d=\"M17.41 7.96l-1.37-1.37c-.4-.4-.92-.59-1.43-.59-.52 0-1.04.2-1.43.59L10.3 9.45l-7.72 7.72c-.78.78-.78 2.05 0 2.83L4 21.41c.39.39.9.59 1.41.59.51 0 1.02-.2 1.41-.59l7.78-7.78 2.81-2.81c.8-.78.8-2.07 0-2.86zM5.41 20L4 18.59l7.72-7.72 1.47 1.35L5.41 20z\"/>\n",
       "  </svg>\n",
       "      </button>\n",
       "      \n",
       "  <style>\n",
       "    .colab-df-container {\n",
       "      display:flex;\n",
       "      flex-wrap:wrap;\n",
       "      gap: 12px;\n",
       "    }\n",
       "\n",
       "    .colab-df-convert {\n",
       "      background-color: #E8F0FE;\n",
       "      border: none;\n",
       "      border-radius: 50%;\n",
       "      cursor: pointer;\n",
       "      display: none;\n",
       "      fill: #1967D2;\n",
       "      height: 32px;\n",
       "      padding: 0 0 0 0;\n",
       "      width: 32px;\n",
       "    }\n",
       "\n",
       "    .colab-df-convert:hover {\n",
       "      background-color: #E2EBFA;\n",
       "      box-shadow: 0px 1px 2px rgba(60, 64, 67, 0.3), 0px 1px 3px 1px rgba(60, 64, 67, 0.15);\n",
       "      fill: #174EA6;\n",
       "    }\n",
       "\n",
       "    [theme=dark] .colab-df-convert {\n",
       "      background-color: #3B4455;\n",
       "      fill: #D2E3FC;\n",
       "    }\n",
       "\n",
       "    [theme=dark] .colab-df-convert:hover {\n",
       "      background-color: #434B5C;\n",
       "      box-shadow: 0px 1px 3px 1px rgba(0, 0, 0, 0.15);\n",
       "      filter: drop-shadow(0px 1px 2px rgba(0, 0, 0, 0.3));\n",
       "      fill: #FFFFFF;\n",
       "    }\n",
       "  </style>\n",
       "\n",
       "      <script>\n",
       "        const buttonEl =\n",
       "          document.querySelector('#df-00826826-bca5-4f4a-be42-35e68c7010ce button.colab-df-convert');\n",
       "        buttonEl.style.display =\n",
       "          google.colab.kernel.accessAllowed ? 'block' : 'none';\n",
       "\n",
       "        async function convertToInteractive(key) {\n",
       "          const element = document.querySelector('#df-00826826-bca5-4f4a-be42-35e68c7010ce');\n",
       "          const dataTable =\n",
       "            await google.colab.kernel.invokeFunction('convertToInteractive',\n",
       "                                                     [key], {});\n",
       "          if (!dataTable) return;\n",
       "\n",
       "          const docLinkHtml = 'Like what you see? Visit the ' +\n",
       "            '<a target=\"_blank\" href=https://colab.research.google.com/notebooks/data_table.ipynb>data table notebook</a>'\n",
       "            + ' to learn more about interactive tables.';\n",
       "          element.innerHTML = '';\n",
       "          dataTable['output_type'] = 'display_data';\n",
       "          await google.colab.output.renderOutput(dataTable, element);\n",
       "          const docLink = document.createElement('div');\n",
       "          docLink.innerHTML = docLinkHtml;\n",
       "          element.appendChild(docLink);\n",
       "        }\n",
       "      </script>\n",
       "    </div>\n",
       "  </div>\n",
       "  "
      ],
      "text/plain": [
       "    가가   가게   가격  가격값   가계   가고   가구   가금   가급   가기\n",
       "0  0.0  0.0  0.0  0.0  0.0  0.0  0.0  0.0  0.0  0.0\n",
       "1  0.0  0.0  0.0  0.0  0.0  0.0  0.0  0.0  0.0  0.0\n",
       "2  0.0  0.0  0.0  0.0  0.0  0.0  0.0  0.0  0.0  0.0\n",
       "3  0.0  0.0  0.0  0.0  0.0  0.0  0.0  0.0  0.0  0.0\n",
       "4  0.0  0.0  0.0  0.0  0.0  0.0  0.0  0.0  0.0  0.0"
      ]
     },
     "execution_count": 32,
     "metadata": {},
     "output_type": "execute_result"
    }
   ],
   "source": [
    "col_names = vectorizer.get_feature_names()\n",
    "emb_df = pd.DataFrame(test_matrix.toarray(), columns=col_names); emb_df.iloc[:5, :10]"
   ]
  },
  {
   "cell_type": "markdown",
   "metadata": {
    "id": "OhYMwsOI9sno"
   },
   "source": [
    "#### One-class SVM 학습 및 저장 "
   ]
  },
  {
   "cell_type": "code",
   "execution_count": 40,
   "metadata": {
    "id": "EgRGF2ZSmWor"
   },
   "outputs": [],
   "source": [
    "kernel = 'linear'\n",
    "gamma = 'scale'\n",
    "nu = 0.2"
   ]
  },
  {
   "cell_type": "code",
   "execution_count": 41,
   "metadata": {
    "id": "W4tL9NFzvace"
   },
   "outputs": [],
   "source": [
    "clf = OneClassSVM(kernel=kernel, gamma=gamma, nu=nu)"
   ]
  },
  {
   "cell_type": "code",
   "execution_count": 42,
   "metadata": {
    "id": "govZ35wy_5r1"
   },
   "outputs": [],
   "source": [
    "clf.fit(train_matrix, y_train)\n",
    "y_pred_train = clf.predict(train_matrix)"
   ]
  },
  {
   "cell_type": "code",
   "execution_count": 43,
   "metadata": {
    "colab": {
     "base_uri": "https://localhost:8080/"
    },
    "id": "AIRLXlOJ1Fu6",
    "outputId": "b28a07ce-76eb-4225-bed7-45e7fe712a0b"
   },
   "outputs": [
    {
     "data": {
      "text/plain": [
       "['ocsvm_trained_0.2.joblib']"
      ]
     },
     "execution_count": 43,
     "metadata": {},
     "output_type": "execute_result"
    }
   ],
   "source": [
    "joblib.dump(clf, 'ocsvm_trained_0.2.joblib')"
   ]
  },
  {
   "cell_type": "code",
   "execution_count": 44,
   "metadata": {
    "id": "Vd6wTe2Y13Q_"
   },
   "outputs": [],
   "source": [
    "clf_loaded = joblib.load('ocsvm_trained_0.2.joblib')"
   ]
  },
  {
   "cell_type": "code",
   "execution_count": 38,
   "metadata": {
    "id": "epOc8hR914T0"
   },
   "outputs": [],
   "source": [
    "result = clf_loaded.predict(test_matrix)"
   ]
  },
  {
   "cell_type": "markdown",
   "metadata": {
    "id": "SVx2RSE2Qs8l"
   },
   "source": [
    "#### 테스트셋으로 모델을  검증할 경우(테스트셋 없는 경우 X)"
   ]
  },
  {
   "cell_type": "code",
   "execution_count": null,
   "metadata": {
    "colab": {
     "base_uri": "https://localhost:8080/",
     "height": 470
    },
    "id": "yFCIytis_5pZ",
    "outputId": "279049d4-a485-4871-f1b2-a5913694c821"
   },
   "outputs": [
    {
     "name": "stdout",
     "output_type": "stream",
     "text": [
      "Data shape: \n",
      "(21958, 10898)\n",
      "(5121, 10898)\n",
      "Settings: \n",
      "kernel:  linear\n",
      "min_count:  3\n",
      "ngram_range:  (1, 1)\n",
      "gamma:  scale\n",
      "nu:  0.25\n",
      "Confusion Matrix :\n",
      "[[2685  463]\n",
      " [1082  891]]\n",
      "Accuracy Score for train: 74.95 %\n",
      "Accuracy Score for test: 69.83 %\n"
     ]
    },
    {
     "data": {
      "text/html": [
       "<div>\n",
       "<style scoped>\n",
       "    .dataframe tbody tr th:only-of-type {\n",
       "        vertical-align: middle;\n",
       "    }\n",
       "\n",
       "    .dataframe tbody tr th {\n",
       "        vertical-align: top;\n",
       "    }\n",
       "\n",
       "    .dataframe thead th {\n",
       "        text-align: right;\n",
       "    }\n",
       "</style>\n",
       "<table border=\"1\" class=\"dataframe\">\n",
       "  <thead>\n",
       "    <tr style=\"text-align: right;\">\n",
       "      <th></th>\n",
       "      <th>precision</th>\n",
       "      <th>recall</th>\n",
       "      <th>f1-score</th>\n",
       "      <th>support</th>\n",
       "    </tr>\n",
       "  </thead>\n",
       "  <tbody>\n",
       "    <tr>\n",
       "      <th>-1</th>\n",
       "      <td>0.712769</td>\n",
       "      <td>0.852922</td>\n",
       "      <td>0.776573</td>\n",
       "      <td>3148.000000</td>\n",
       "    </tr>\n",
       "    <tr>\n",
       "      <th>1</th>\n",
       "      <td>0.658050</td>\n",
       "      <td>0.451597</td>\n",
       "      <td>0.535618</td>\n",
       "      <td>1973.000000</td>\n",
       "    </tr>\n",
       "    <tr>\n",
       "      <th>accuracy</th>\n",
       "      <td>0.698301</td>\n",
       "      <td>0.698301</td>\n",
       "      <td>0.698301</td>\n",
       "      <td>0.698301</td>\n",
       "    </tr>\n",
       "    <tr>\n",
       "      <th>macro avg</th>\n",
       "      <td>0.685410</td>\n",
       "      <td>0.652260</td>\n",
       "      <td>0.656095</td>\n",
       "      <td>5121.000000</td>\n",
       "    </tr>\n",
       "    <tr>\n",
       "      <th>weighted avg</th>\n",
       "      <td>0.691687</td>\n",
       "      <td>0.698301</td>\n",
       "      <td>0.683738</td>\n",
       "      <td>5121.000000</td>\n",
       "    </tr>\n",
       "  </tbody>\n",
       "</table>\n",
       "</div>"
      ],
      "text/plain": [
       "              precision    recall  f1-score      support\n",
       "-1             0.712769  0.852922  0.776573  3148.000000\n",
       "1              0.658050  0.451597  0.535618  1973.000000\n",
       "accuracy       0.698301  0.698301  0.698301     0.698301\n",
       "macro avg      0.685410  0.652260  0.656095  5121.000000\n",
       "weighted avg   0.691687  0.698301  0.683738  5121.000000"
      ]
     },
     "execution_count": 44,
     "metadata": {},
     "output_type": "execute_result"
    }
   ],
   "source": [
    "print('Data shape: ')\n",
    "print(train_matrix.shape)\n",
    "print(test_matrix.shape)\n",
    "print('Settings: ')\n",
    "print('kernel: ', kernel)\n",
    "print('min_count: ', min_count)\n",
    "print('ngram_range: ', ngram_range)\n",
    "print('gamma: ', gamma)\n",
    "print('nu: ', nu)\n",
    "y_pred_test = clf.predict(test_matrix)\n",
    "# y_pred_test = clf_loaded.predict(test_matrix)\n",
    "results = confusion_matrix(y_test, y_pred_test)\n",
    "print('Confusion Matrix :')\n",
    "print(results) \n",
    "print('Accuracy Score for train: {:.2f} %'.format(accuracy_score(y_train, y_pred_train)*100)) \n",
    "print('Accuracy Score for test: {:.2f} %'.format(accuracy_score(y_test, y_pred_test)*100)) \n",
    "report = classification_report(y_test, y_pred_test, output_dict=True)\n",
    "pd.DataFrame(report).transpose()"
   ]
  }
 ],
 "metadata": {
  "colab": {
   "collapsed_sections": [],
   "machine_shape": "hm",
   "name": "ocsvm_train.ipynb",
   "provenance": []
  },
  "kernelspec": {
   "display_name": "Python 3",
   "language": "python",
   "name": "python3"
  },
  "language_info": {
   "codemirror_mode": {
    "name": "ipython",
    "version": 3
   },
   "file_extension": ".py",
   "mimetype": "text/x-python",
   "name": "python",
   "nbconvert_exporter": "python",
   "pygments_lexer": "ipython3",
   "version": "3.8.3"
  }
 },
 "nbformat": 4,
 "nbformat_minor": 4
}
