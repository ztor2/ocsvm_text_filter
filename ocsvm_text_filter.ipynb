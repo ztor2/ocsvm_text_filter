{
 "cells": [
  {
   "cell_type": "code",
   "execution_count": 3,
   "id": "58a588da-7241-4271-b903-d81bb24ddbbf",
   "metadata": {},
   "outputs": [],
   "source": [
    "from model import ocsvm_text_filter"
   ]
  },
  {
   "cell_type": "markdown",
   "id": "2d738c7d-112b-439b-90fa-6a90b0c588d3",
   "metadata": {},
   "source": [
    "#### Define path of texts and model"
   ]
  },
  {
   "cell_type": "code",
   "execution_count": 8,
   "id": "4e911413-9300-4306-bb05-c4cd9d7e2785",
   "metadata": {},
   "outputs": [],
   "source": [
    "text_data_name = 'test_noise_text.json'\n",
    "model_name = 'ocsvm_train/ocsvm_trained_0.15.joblib'\n",
    "new_data_name = 'filtered_text.json'"
   ]
  },
  {
   "cell_type": "markdown",
   "id": "b06ad9c4-c51c-48b8-8614-3d083b0fa0c8",
   "metadata": {},
   "source": [
    "#### Define filter"
   ]
  },
  {
   "cell_type": "code",
   "execution_count": 5,
   "id": "b8da7d9d-49b7-4aee-8e53-3e17a70075d3",
   "metadata": {},
   "outputs": [],
   "source": [
    "filter = ocsvm_text_filter(text_data_name, model_name)"
   ]
  },
  {
   "cell_type": "markdown",
   "id": "70f2ad5c-e7c1-428a-a2e9-e29a0e27ba46",
   "metadata": {},
   "source": [
    "#### Preprocess texts"
   ]
  },
  {
   "cell_type": "code",
   "execution_count": 6,
   "id": "cc4544fe-ba25-45c2-850d-cbaf80951cc0",
   "metadata": {},
   "outputs": [],
   "source": [
    "orig_text, preprocessed = filter.preprocessing()"
   ]
  },
  {
   "cell_type": "markdown",
   "id": "96895905-5988-407c-92ec-3ab413656a0a",
   "metadata": {},
   "source": [
    "#### Text filtering with trained OC-SVM"
   ]
  },
  {
   "cell_type": "code",
   "execution_count": 7,
   "id": "5d51cced-d8de-43a1-8257-d4232836487d",
   "metadata": {},
   "outputs": [
    {
     "name": "stdout",
     "output_type": "stream",
     "text": [
      "Model: OneClassSVM(kernel='linear', nu=0.15)\n",
      "3 noise texts are detected.\n",
      "97 texts will be saved.\n"
     ]
    }
   ],
   "source": [
    "noise_idx = filter.get_noise_idx(preprocessed)"
   ]
  },
  {
   "cell_type": "markdown",
   "id": "37befb36-8ab8-4944-95ed-9d6b7b24f006",
   "metadata": {},
   "source": [
    "#### Save filtered texts"
   ]
  },
  {
   "cell_type": "code",
   "execution_count": 33,
   "id": "07d8fcf6-db0d-446f-9efc-c9b094b9a4bc",
   "metadata": {},
   "outputs": [
    {
     "name": "stdout",
     "output_type": "stream",
     "text": [
      "Filtered text data saved as C:\\Users\\ztor7\\Desktop\\화장품분석프로젝트\\플랫폼별키워드분석\\filtered_other_platform.json\n"
     ]
    }
   ],
   "source": [
    "filter.save_filtered_text(orig_text, noise_idx, new_data_name)"
   ]
  },
  {
   "cell_type": "markdown",
   "id": "d04f3b1a-bef8-4562-8086-65d379469145",
   "metadata": {},
   "source": [
    "-  Test saved file"
   ]
  },
  {
   "cell_type": "code",
   "execution_count": 176,
   "id": "fc3f3528-b059-4574-acd0-f3ec426197ab",
   "metadata": {},
   "outputs": [],
   "source": [
    "with open(new_data_name, 'r', encoding='utf-8') as f:\n",
    "    filtered_json = json.load(f, strict=False)"
   ]
  },
  {
   "cell_type": "code",
   "execution_count": 177,
   "id": "ef3ca67c-1861-427f-8262-dc28ddd02108",
   "metadata": {},
   "outputs": [
    {
     "data": {
      "text/plain": [
       "95"
      ]
     },
     "execution_count": 177,
     "metadata": {},
     "output_type": "execute_result"
    }
   ],
   "source": [
    "len(filtered_json)"
   ]
  },
  {
   "cell_type": "code",
   "execution_count": null,
   "id": "88770d5c-73cc-40fe-80ce-2140d3d5f227",
   "metadata": {},
   "outputs": [],
   "source": []
  }
 ],
 "metadata": {
  "kernelspec": {
   "display_name": "Python 3",
   "language": "python",
   "name": "python3"
  },
  "language_info": {
   "codemirror_mode": {
    "name": "ipython",
    "version": 3
   },
   "file_extension": ".py",
   "mimetype": "text/x-python",
   "name": "python",
   "nbconvert_exporter": "python",
   "pygments_lexer": "ipython3",
   "version": "3.8.3"
  }
 },
 "nbformat": 4,
 "nbformat_minor": 5
}
